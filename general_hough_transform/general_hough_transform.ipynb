{
 "cells": [
  {
   "cell_type": "markdown",
   "metadata": {},
   "source": [
    "# Graded Exercise Session: General Hough Transform"
   ]
  },
  {
   "cell_type": "markdown",
   "metadata": {},
   "source": [
    "In this exercise we implement *General Hough Transform*. The objective is to use the algorithm to find the locations where the template ( ```template.png```) appears in the target image (```image.png```). The algorithm has 4 steps:\n",
    "1. Computing the R-table (Q1.1, Q1.2)\n",
    "2. Building the accumulator matrix (Q2)\n",
    "3. Finding the object location (Q3) \n",
    "4. Extending the R-table to include the template in multiple scales(Q4)"
   ]
  },
  {
   "cell_type": "code",
   "execution_count": 1,
   "metadata": {},
   "outputs": [
    {
     "name": "stderr",
     "output_type": "stream",
     "text": [
      "/var/folders/my/2hxsh9b90b9brv55p9f5x2700000gn/T/ipykernel_1502/2716385739.py:4: DeprecationWarning: Please use `sobel` from the `scipy.ndimage` namespace, the `scipy.ndimage.filters` namespace is deprecated.\n",
      "  from scipy.ndimage.filters import sobel\n"
     ]
    }
   ],
   "source": [
    "import numpy as np\n",
    "import matplotlib.pyplot as plt\n",
    "import cv2\n",
    "from scipy.ndimage.filters import sobel\n",
    "from skimage.feature import canny\n",
    "from skimage import io\n",
    "\n",
    "# Load images\n",
    "reference_I = io.imread(\"./images/template.png\")\n",
    "target_I = io.imread(\"./images/image.png\")\n",
    "\n",
    "centerPoint = (reference_I.shape[0] // 2, reference_I.shape[1] // 2)\n",
    "r_table_row_count = 90"
   ]
  },
  {
   "cell_type": "markdown",
   "metadata": {},
   "source": [
    "***Functions that might be useful except the ones that are specifically mentioned in the questions***\n",
    "- ```np.sqrt()```: square root\n",
    "- ```np.sin()```: sine\n",
    "- ```np.cos()```: cosine\n",
    "- ```int()``` : casts a float/double into an int\n",
    "\n",
    "***To get built-in documentation of a function use the following:***\n",
    "\n",
    "help(funtion_name)\n",
    "\n",
    "ex: ```help(sobel)```"
   ]
  },
  {
   "cell_type": "markdown",
   "metadata": {},
   "source": [
    "## Q1. Computing the R-table\n",
    "\n",
    "Objective is to implement a function to compute the R-table.  As the name suggest, it is a table in which each row corresponds to an edge orientation ($\\phi^m$). Each entry in the table represent an edge pixel location $(r^m_i,\\alpha^m_i)$ with respect to a center point we select $(x_c,y_c)$. A single row in the table can have multiple such entries. When inserting a new entry $(r,\\alpha)$ representing an edge pixel, we first find the orientation of that edge pixel. Then the orientation is used to find the row in the table and $(r,\\alpha)$ is appended to the entries in that particular row. \n",
    "\n",
    "### Edge pixel representation in R-table $(r,\\alpha)$ \n",
    "Let the center point we select be $(x_c,y_c)$ and edge pixel location be $(x,y)$, then\n",
    "- $r^m_i = \\sqrt{(x_c-x)^2+(y_c-y)^2}$\n",
    "- $\\alpha^m_i = {tan}^{-1}\\big(\\frac{y_c-y}{x_c-x}\\big)$\n",
    "\n",
    "<img src=\"references/r_table.png\" alt=\"Drawing\" style=\"width: 800px;\" align=”left”/>\n",
    "\n",
    "Note: The notation used in the slides of the above table and the image is slightly different. For clarity we have made some changes and we recommend you to use the above version.\n"
   ]
  },
  {
   "cell_type": "markdown",
   "metadata": {},
   "source": [
    "\n",
    "### Q1.1 Edge orientation map \n",
    "First we need to find the edge orientation map. We use gradient direction at each edge pixel as the edge orientation.\n",
    "For that, implement the function ```grad_directions``` that calculates the orientation of each pixel in the edge image. Edge image is already computed using the function ```canny```.\n",
    "\n",
    "#### Input\n",
    "- ```edge_image```: edge image\n",
    "\n",
    "#### Output\n",
    "\n",
    "- ```grad_directions```: Gradient direction map. It represents the edge orientations. Its dimensions are equal to the dimensions of ```image```. The value at pixel $(i,j)$ is the gradient direction at that point and it should be in the range $[0,2\\pi]$\n",
    "\n",
    "Note: \n",
    "- To compute gradient in x and y directions, you can use ```sobel``` filter function.\n",
    "- You can use ```np.arctan2``` find the angle (the angle returned from ```arctan2``` is in the range $[-\\pi,\\pi]$).\n"
   ]
  },
  {
   "cell_type": "code",
   "execution_count": null,
   "metadata": {},
   "outputs": [],
   "source": [
    "def grad_directions(image):\n",
    "    # -------------------------------\n",
    "    # Implement your code here\n",
    "    # -------------------------------\n",
    "    \n",
    "    # -------------------------------\n",
    "    grad_directions = \n",
    "\n",
    "    return grad_directions"
   ]
  },
  {
   "cell_type": "code",
   "execution_count": null,
   "metadata": {},
   "outputs": [],
   "source": [
    "# -------------------------------\n",
    "# Do not change this code \n",
    "# -------------------------------\n",
    "\n",
    "# Visualizing the results\n",
    "edges = canny(reference_I)\n",
    "edge_orientations = grad_directions(edges)\n",
    "\n",
    "fig = plt.figure(1, figsize=(10,15)) \n",
    "fig.add_subplot(1, 2, 1)\n",
    "plt.imshow(edges,cmap='gray')\n",
    "plt.title('Edges')\n",
    "\n",
    "fig.add_subplot(1, 2, 2)\n",
    "plt.imshow(np.float32(edge_orientations),cmap='jet')\n",
    "plt.title('Edge orientations')\n",
    " \n",
    "# -------------------------------"
   ]
  },
  {
   "cell_type": "markdown",
   "metadata": {},
   "source": [
    "### Q1.2 Build the R-table\n",
    "Implement the function ```build_r_table``` that computes the R-table given an template image, a center point and number of rows as arguments. In the function, R-table is implemented as a list of lists (```r_table = [[]] * row_count```). In it, the outer list corresponds to a row in the table and inner lists correspond to entries in a row. \n",
    "\n",
    "\n",
    "#### Input\n",
    "- ```template```: template image\n",
    "- ```center_point```: center point we select\n",
    "- ```row_count```: number of rows in the r_table\n",
    "\n",
    "#### Output\n",
    "- ```r_table```: R-table\n",
    "\n",
    "Note: \n",
    "- Orientation values can be in the range $[0,2\\pi]$. Since we need a finite number of rows in the R-table, we discretize the range into ```r_table_row_count``` number of bins.\n"
   ]
  },
  {
   "cell_type": "code",
   "execution_count": null,
   "metadata": {},
   "outputs": [],
   "source": [
    "def build_r_table(template, center_point, row_count):\n",
    "\n",
    "    edges = canny(template)\n",
    "    orientations = grad_directions(edges) \n",
    "    r_table = [[] for i in range(row_count)] \n",
    " \n",
    "    # -------------------------------\n",
    "    # Implement your code here\n",
    "    # -------------------------------\n",
    "    \n",
    "    # -------------------------------\n",
    "    return r_table"
   ]
  },
  {
   "cell_type": "code",
   "execution_count": null,
   "metadata": {},
   "outputs": [],
   "source": [
    "# -------------------------------\n",
    "# Do not change this code \n",
    "# -------------------------------\n",
    "centerPoint = (reference_I.shape[0] // 2, reference_I.shape[1] // 2)\n",
    "r_table_row_count = 90\n",
    "\n",
    "r_table = build_r_table(reference_I, centerPoint, r_table_row_count) \n",
    "# -------------------------------"
   ]
  },
  {
   "cell_type": "markdown",
   "metadata": {},
   "source": [
    "## Q2. Build the accumulator matrix\n",
    "Implement the function ```compute_accumulator_array``` that computes the accumulator array given an input image and a R-table.\n",
    "\n",
    "#### Input\n",
    "- ```target_I```: input image\n",
    "- ```r_table```: r_table of the template\n",
    "\n",
    "#### Output\n",
    "\n",
    "- ```accumulator```: the accumulator array that keeps the votes\n",
    "\n",
    "Note: Accumulator array has dimensions equal to the input image and in it we vote for ***candidate center points***. Please refer to page number 73 in slides Delineation.pdf (we have also included the slide 73 in the 'references' directory)"
   ]
  },
  {
   "cell_type": "code",
   "execution_count": null,
   "metadata": {},
   "outputs": [],
   "source": [
    "def compute_accumulator_array(target_I, r_table):\n",
    "\n",
    "    edges = canny(target_I) \n",
    "    orientations = grad_directions(edges) \n",
    "    # -------------------------------\n",
    "    # Implement your code here\n",
    "    # -------------------------------\n",
    "    \n",
    "    # -------------------------------\n",
    "    return accumulator\n",
    "\n"
   ]
  },
  {
   "cell_type": "code",
   "execution_count": null,
   "metadata": {},
   "outputs": [],
   "source": [
    "# -------------------------------\n",
    "# Do not change this code \n",
    "# -------------------------------\n",
    "accumulator_array = compute_accumulator_array(target_I, r_table) \n",
    "\n",
    "fig = plt.figure(figsize=(10,15))\n",
    "\n",
    "fig = plt.figure(1, figsize=(10,15)) \n",
    "fig.add_subplot(1, 2, 1)\n",
    "plt.imshow(target_I,cmap='gray') \n",
    "plt.title('Target Image')\n",
    "\n",
    "fig.add_subplot(1, 2, 2)\n",
    "plt.imshow(accumulator_array,cmap='jet')\n",
    "plt.title('Accumulator') \n",
    "# -------------------------------"
   ]
  },
  {
   "cell_type": "markdown",
   "metadata": {},
   "source": [
    "## Q3. Return top-k results\n",
    "Implement a function ```max_votes``` that returns the point coordinates corresponding to top-k elements that have the maximum votes.\n",
    "#### Input\n",
    "\n",
    "- ```accumulator_array```: accumulator array\n",
    "- ```top_k```: number of points to return\n",
    "\n",
    "#### Output\n",
    "\n",
    "- ```top_k_points```: the coordinates of the points that have the maximum votes. It can be a list of tuples with each tuple being (y,x) coordinates."
   ]
  },
  {
   "cell_type": "code",
   "execution_count": null,
   "metadata": {},
   "outputs": [],
   "source": [
    "def max_votes(accumulator_array, top_k):\n",
    "    # -------------------------------\n",
    "    # Implement your code here\n",
    "    # -------------------------------\n",
    "    \n",
    "    # -------------------------------\n",
    "    return top_k_points"
   ]
  },
  {
   "cell_type": "code",
   "execution_count": null,
   "metadata": {},
   "outputs": [],
   "source": [
    "# -------------------------------\n",
    "# Do not change this code \n",
    "# -------------------------------\n",
    "def visualize(figure_id, reference_I, target_I, accumulator, object_locations):\n",
    "    fig = plt.figure(figure_id, figsize=(10,15))\n",
    "    plt.gray()\n",
    "\n",
    "    fig.add_subplot(2, 2, 1)\n",
    "    plt.title('Reference image')\n",
    "    plt.imshow(reference_I)\n",
    "\n",
    "    fig.add_subplot(2, 2, 2)\n",
    "    plt.title('Target image')\n",
    "    plt.imshow(target_I)\n",
    "\n",
    "    fig.add_subplot(2, 2, 3)\n",
    "    plt.title('Accumulator')\n",
    "    plt.imshow(accumulator, cmap='jet')\n",
    "\n",
    "    fig.add_subplot(2, 2, 4)\n",
    "    plt.title('Detection')\n",
    "    plt.imshow(target_I)\n",
    "\n",
    "    # top 5 results in red\n",
    "\n",
    "    y_points = [pt[0] for pt in object_locations]\n",
    "    x_points = [pt[1] for pt in object_locations]\n",
    "    plt.scatter(x_points, y_points, marker='o', color='r')\n",
    "\n",
    "    plt.show()\n",
    "# -------------------------------\n"
   ]
  },
  {
   "cell_type": "code",
   "execution_count": null,
   "metadata": {},
   "outputs": [],
   "source": [
    "# -------------------------------\n",
    "# Do not change this code \n",
    "# -------------------------------\n",
    "object_locations = max_votes(accumulator_array, 1)\n",
    "visualize(1, reference_I, target_I, accumulator_array, object_locations)\n",
    "# -------------------------------\n"
   ]
  },
  {
   "cell_type": "markdown",
   "metadata": {},
   "source": [
    "## Q4. Extending R-table to include different scales of the object"
   ]
  },
  {
   "cell_type": "markdown",
   "metadata": {},
   "source": [
    "So far, the algorithm can only detect the template if it appears exactly in the same scale in the target image. To enable detecting the template object in multiple scales, implement the function ```build_r_table_multi_scale```.\n",
    " \n",
    "\n",
    "#### Input\n",
    "- ```r_table```: R-table from Q1 \n",
    "- ```scales```: list of scales\n",
    "\n",
    "#### Output\n",
    "- ```r_table_extended```: extended R-table. It should contain entries corresponding to template at all the scales specified in ```scales```.\n",
    "\n",
    "Note: \n",
    "- For an entry $(r,\\alpha)$, you need to computed the scaled version. Think about which values in $(r,\\alpha)$ changes when you scale the template. "
   ]
  },
  {
   "cell_type": "code",
   "execution_count": null,
   "metadata": {},
   "outputs": [],
   "source": [
    "def build_r_table_multi_scale(r_table, scales):\n",
    "    \n",
    "    row_count = len(r_table)\n",
    "    r_table_extended = [[] for i in range(row_count)]\n",
    "    \n",
    "    # -------------------------------\n",
    "    # Implement your code here\n",
    "    # -------------------------------\n",
    "    \n",
    "    # -------------------------------\n",
    "    return r_table_extended"
   ]
  },
  {
   "cell_type": "code",
   "execution_count": null,
   "metadata": {},
   "outputs": [],
   "source": [
    "# -------------------------------\n",
    "# Do not change this code \n",
    "# ------------------------------- \n",
    "scales = [1,1.5]\n",
    "r_table_extended = build_r_table_multi_scale(r_table, scales)\n",
    "\n",
    "accumulator = compute_accumulator_array(target_I, r_table_extended)\n",
    "object_locations = max_votes(accumulator, 5)\n",
    "visualize(3, reference_I, target_I, accumulator, object_locations)\n",
    "# -------------------------------"
   ]
  }
 ],
 "metadata": {
  "kernelspec": {
   "display_name": "Python 3 (ipykernel)",
   "language": "python",
   "name": "python3"
  },
  "language_info": {
   "codemirror_mode": {
    "name": "ipython",
    "version": 3
   },
   "file_extension": ".py",
   "mimetype": "text/x-python",
   "name": "python",
   "nbconvert_exporter": "python",
   "pygments_lexer": "ipython3",
   "version": "3.10.8"
  }
 },
 "nbformat": 4,
 "nbformat_minor": 2
}
